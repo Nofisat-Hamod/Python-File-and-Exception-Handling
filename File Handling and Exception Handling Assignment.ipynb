{
 "cells": [
  {
   "cell_type": "markdown",
   "id": "1ddca593-b8d8-4375-9476-0d0d1eec5a75",
   "metadata": {},
   "source": [
    "### Description\n",
    "- File Read & Write Challenge 🖋️: Create a program that reads a file and writes a modified version to a new file.\n",
    "- Error Handling Lab 🧪: Ask the user for a filename and handle errors if it doesn’t exist or can’t be read."
   ]
  },
  {
   "cell_type": "code",
   "execution_count": 1,
   "id": "58406a76-da6c-4062-80ae-a2813d739a5d",
   "metadata": {},
   "outputs": [],
   "source": [
    "def copy_and_modify(input_file, output_file):\n",
    "    # Read original file\n",
    "    with open(input_file, 'r') as file:\n",
    "        original_text = file.read()\n",
    "    \n",
    "    # Simple modification example: make uppercase\n",
    "    modified_text = original_text.upper()\n",
    "    \n",
    "    # Write to new file\n",
    "    with open(output_file, 'w') as file:  # 'w' = write mode\n",
    "        file.write(modified_text)\n",
    "\n",
    "    return original_text, modified_text"
   ]
  },
  {
   "cell_type": "code",
   "execution_count": 2,
   "id": "7dcf85e6-0d0e-4492-98b5-9e90ce3c5cf1",
   "metadata": {},
   "outputs": [
    {
     "data": {
      "text/plain": [
       "('This is a sample text for file handling in Python.',\n",
       " 'THIS IS A SAMPLE TEXT FOR FILE HANDLING IN PYTHON.')"
      ]
     },
     "execution_count": 2,
     "metadata": {},
     "output_type": "execute_result"
    }
   ],
   "source": [
    "# Example usage:\n",
    "copy_and_modify(\"Sample.txt\", \"modified.txt\")"
   ]
  },
  {
   "cell_type": "code",
   "execution_count": 6,
   "id": "0f52f69f-eacc-4f90-8673-d654690cf000",
   "metadata": {},
   "outputs": [],
   "source": [
    "def copy_and_modify():\n",
    "    input_file = input('Enter a filename: ')\n",
    "\n",
    "    try:\n",
    "        with open(input_file, \"r\") as file:\n",
    "            data = file.read()\n",
    "    except FileNotFoundError:\n",
    "        print(\"File not found. Please check filename\")"
   ]
  },
  {
   "cell_type": "code",
   "execution_count": 7,
   "id": "93a85c1f-dfd6-42bb-bddd-42a87e585294",
   "metadata": {},
   "outputs": [
    {
     "name": "stdin",
     "output_type": "stream",
     "text": [
      "Enter a filename:  File.txt\n"
     ]
    },
    {
     "name": "stdout",
     "output_type": "stream",
     "text": [
      "File not found. Please check filename\n"
     ]
    }
   ],
   "source": [
    "copy_and_modify()"
   ]
  },
  {
   "cell_type": "code",
   "execution_count": null,
   "id": "507b318a-6dfd-444c-bbb5-8eb008b0094c",
   "metadata": {},
   "outputs": [],
   "source": []
  }
 ],
 "metadata": {
  "kernelspec": {
   "display_name": "Python 3 (ipykernel)",
   "language": "python",
   "name": "python3"
  },
  "language_info": {
   "codemirror_mode": {
    "name": "ipython",
    "version": 3
   },
   "file_extension": ".py",
   "mimetype": "text/x-python",
   "name": "python",
   "nbconvert_exporter": "python",
   "pygments_lexer": "ipython3",
   "version": "3.13.2"
  }
 },
 "nbformat": 4,
 "nbformat_minor": 5
}
